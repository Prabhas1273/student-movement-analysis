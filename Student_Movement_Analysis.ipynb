{
 "cells": [
  {
   "cell_type": "markdown",
   "id": "ea3999b5-e15d-430e-b730-f9a4175bd270",
   "metadata": {},
   "source": [
    "#### **Domain**: Data Science\n",
    "#### **Project Title**: Student Movement Analysis\n",
    "#### **Team Members**:\n",
    "* CS21B1039 MUPPA PRABHAS REDDY \n",
    "* CS21B1038 DESETTI RAJESH\n",
    "#### **Institution**: Indian Institute of Information Technology, Design & Manufacturing, Kancheepuram"
   ]
  },
  {
   "cell_type": "markdown",
   "id": "0ca20e8d-bd96-4db5-bd15-72e757777ec3",
   "metadata": {},
   "source": [
    "#### **Data Collection**\n",
    "* **Source**: Student Movement Register\n",
    "* **Raw Data File**: raw_student_movement.csv\n",
    "* **Cleaned Data File**: cleaned_student_movement.csv"
   ]
  },
  {
   "cell_type": "markdown",
   "id": "c48ecd6c-7db9-4389-8b01-9d99fab370c6",
   "metadata": {},
   "source": [
    "#### **Data Analysis Steps\n",
    "1.Data collection\n",
    "2.Data preparation\n",
    "    2.1.Data Discretization\n",
    "    \t1.Data binning\n",
    "    \t2.clustering\n",
    "    \t3.Classification\n",
    "    2.2.Data cleaning\n",
    "    \t1.remove duplicates\n",
    "    \t2.remove irrelevent data\n",
    "    \t3.handle incomplete data\n",
    "    \t4.remove outliers\n",
    "    \t5.fix structural errors\t\n",
    "    2.3.Data integration\n",
    "    2.4.Data Transformation\n",
    "    \t1.smoothing\n",
    "    \t2.aggregation\n",
    "    \t3.genralization\n",
    "    \t4.normalisation\n",
    "    2.5.Data reduction"
   ]
  },
  {
   "cell_type": "markdown",
   "id": "5fe88521-271b-4ff4-bd14-541b0763332c",
   "metadata": {},
   "source": [
    "#### **Data Loading into DataFrame**"
   ]
  },
  {
   "cell_type": "code",
   "execution_count": null,
   "id": "a57aeeda-9d99-486d-a62b-3a0f4b35af4e",
   "metadata": {},
   "outputs": [],
   "source": [
    "import numpy as np\n",
    "import pandas as pd\n",
    "import seaborn as sns\n",
    "import matplotlib.pyplot as plt\n",
    "\n",
    "df = pd.read_csv('raw_student_movement.csv')\n",
    "data_types = df.dtypes\n",
    "print(\"Data Types of Attributes\\n........................\")\n",
    "print(data_types)\n",
    "print(\"\\nData: Student Movement Details\\nSource: Student Movement Register\\n\")\n",
    "df"
   ]
  },
  {
   "cell_type": "markdown",
   "id": "1874fb29-9dc5-4cd8-b5e6-aaf8747d75f7",
   "metadata": {},
   "source": [
    "#### **Type Conversion of Time to Time in Seconds**"
   ]
  },
  {
   "cell_type": "code",
   "execution_count": null,
   "id": "ad5737ef-f5b9-47bd-aee2-d952d31de7c3",
   "metadata": {},
   "outputs": [],
   "source": [
    "# Function to convert time to seconds\n",
    "def time_to_seconds(time_str):\n",
    "    # Split the time string by ':'\n",
    "    time_parts = time_str.split(':')\n",
    "    # Convert hours and minutes to seconds and add them up\n",
    "    total_seconds = int(time_parts[0]) * 3600 + int(time_parts[1]) * 60\n",
    "    return total_seconds\n",
    "\n",
    "# Apply the function to the 'OutTime' and 'InTime' column and create new 'OutTimeSeconds' and 'InTimeSeconds'columns\n",
    "df['OutTimeSeconds'] = df['OutTime'].apply(time_to_seconds)\n",
    "df['InTimeSeconds'] = df['InTime'].apply(time_to_seconds)\n",
    "\n",
    "df"
   ]
  },
  {
   "cell_type": "markdown",
   "id": "0a5d1cf1-945a-4cba-b56a-66a1dcbe8d5c",
   "metadata": {},
   "source": [
    "#### **Data Preparation**"
   ]
  },
  {
   "cell_type": "markdown",
   "id": "a50222b5-f432-435b-a053-5be026579dee",
   "metadata": {},
   "source": [
    "#### **1. Data Discretization** - Binning"
   ]
  },
  {
   "cell_type": "code",
   "execution_count": null,
   "id": "4958d684-1cee-4f58-91e7-d05ff7989e9a",
   "metadata": {},
   "outputs": [],
   "source": [
    "# create a dataframe to store the binned column- TimeOfDay\n",
    "binned_df = pd.DataFrame()\n",
    "binned_df = df[['RollNumber', 'OutTimeSeconds']].copy()\n",
    "\n",
    "# declare the number of bins and their width\n",
    "# 00:00 to 11:59 - Morning\n",
    "# 12:00 to 17:59 - Afternoon\n",
    "# 18:00 to 23:59 - Evening\n",
    "\n",
    "bin_edges = [0, 43200, 64800, 86400]\n",
    "bin_labels = ['Morning', 'Afternoon', 'Evening']\n",
    "\n",
    "binned_df['TimeOfDay'] = pd.cut(df['OutTimeSeconds'], bins=bin_edges, labels=bin_labels)\n",
    "print(f\"Total number of bins: {len(bin_labels)}\")\n",
    "print(\"Bins: \", end=\" \")\n",
    "for label in bin_labels:\n",
    "    print(label, end=\" \")\n",
    "binned_df"
   ]
  },
  {
   "cell_type": "markdown",
   "id": "c1490bba-17ee-4b70-982a-108290a4fffa",
   "metadata": {},
   "source": [
    "#### **2. Data Cleaning**"
   ]
  },
  {
   "cell_type": "markdown",
   "id": "ad98ea8e-f1ad-4a0d-831e-451a9aacc088",
   "metadata": {},
   "source": [
    "#### **2.1. Removing Duplicates** - drop_duplicates()"
   ]
  },
  {
   "cell_type": "code",
   "execution_count": null,
   "id": "ab4dbec1-1965-43c2-9bab-1a1f5ca4e203",
   "metadata": {},
   "outputs": [],
   "source": [
    "# Count the number of duplicated rows\n",
    "num_of_duplicates = df.duplicated().sum()\n",
    "print(f\"Number of duplicated rows: {num_of_duplicates}\\n\")\n",
    "\n",
    "# drop the duplicated rows from the dataframe\n",
    "df.drop_duplicates(inplace=True)\n",
    "df.reset_index(drop=True, inplace=True)\n",
    "df"
   ]
  },
  {
   "cell_type": "markdown",
   "id": "bb48746d-c384-4221-b5fe-abbf8e3ca559",
   "metadata": {},
   "source": [
    "#### **2.2. Removing Irrelevant Data** - drop()"
   ]
  },
  {
   "cell_type": "code",
   "execution_count": null,
   "id": "433708c1-55e5-436a-94ad-a8c2209edfdb",
   "metadata": {},
   "outputs": [],
   "source": [
    "# drop irrelevant columns from the dataframe\n",
    "irrelevant_columns = ['RoomNumber', 'PhoneNumber']\n",
    "df.drop(columns=irrelevant_columns, inplace=True)\n",
    "print(\"Irrelevant columns dropped: \", end=\" \")\n",
    "for column in irrelevant_columns:\n",
    "    print(column, end=\" \")\n",
    "print(\"\\n\")\n",
    "df"
   ]
  },
  {
   "cell_type": "markdown",
   "id": "70f80908-4b0d-49f8-82a3-c3b7b6c2ce34",
   "metadata": {},
   "source": [
    "#### **2.3. Handling Missing Data** - fillna() and dropna()"
   ]
  },
  {
   "cell_type": "code",
   "execution_count": null,
   "id": "fd4d51e5-8d9e-4c71-b6a1-3f4f4e6536fd",
   "metadata": {},
   "outputs": [],
   "source": [
    "# Check for missing values\n",
    "print(\"Number of missing values in each column >> BEFORE DROP\")\n",
    "print(df.isnull().sum())\n",
    "\n",
    "# check for null values in the column VisitingPlace\n",
    "null_count_visitingPlace = df['VisitingPlace'].isnull().sum()\n",
    "print(f\"Number of null values in the column VisitingPlace: {null_count_visitingPlace}\")\n",
    "\n",
    "# fill the null values in VisitingPlace column with mode of that column\n",
    "print(f\"\\nMode of VisitingPlace column: {df['VisitingPlace'].mode()[0]}\")\n",
    "df['VisitingPlace'].fillna(df['VisitingPlace'].mode()[0], inplace=True)\n",
    "\n",
    "# Drop rows with any missing values\n",
    "df.dropna(inplace=True)\n",
    "print(\"Number of missing values in each column >> AFTER DROP\")\n",
    "print(df.isnull().sum())\n",
    "# Interpolate missing values using linear method\n",
    "# df['OutTimeSeconds'].interpolate(method='linear', inplace=True)\n",
    "# df['InTimeSeconds'].fillna(df['InTimeSeconds'].mean(), inplace=True)\n",
    "df.reset_index(drop=True, inplace=True)\n",
    "df"
   ]
  },
  {
   "cell_type": "code",
   "execution_count": null,
   "id": "ef276ca3-93c0-4a3d-b624-d1b901b4f6f8",
   "metadata": {},
   "outputs": [],
   "source": [
    "print(\"Statistical description of numerical columns\\n\")\n",
    "df.describe()"
   ]
  },
  {
   "cell_type": "markdown",
   "id": "ba365351-2dd1-4a2f-a617-2840409c28a6",
   "metadata": {},
   "source": [
    "#### **2.4. Detecting Outliers** - Box Plot"
   ]
  },
  {
   "cell_type": "code",
   "execution_count": null,
   "id": "4ffc14dd-4abf-4e10-81e2-9bc27ad51e14",
   "metadata": {},
   "outputs": [],
   "source": [
    "def time_format(seconds):\n",
    "    hours = seconds // 3600\n",
    "    minutes = (seconds % 3600) // 60\n",
    "    return '{:02d}:{:02d}'.format(int(hours), int(minutes))\n",
    "\n",
    "# function to get the minimum and maximum value of boxplot\n",
    "def get_boxplot_min_max(dataframe, column_name):\n",
    "    # Get the descriptive statistics of the column\n",
    "    column_stats = dataframe[column_name].describe()\n",
    "\n",
    "    # Calculate the interquartile range (IQR)\n",
    "    Q1 = column_stats['25%']\n",
    "    Q3 = column_stats['75%']\n",
    "    IQR = Q3 - Q1\n",
    "    print(f\"25 Percentile: {time_format(Q1)} ({int(Q1)})\\n75 Percentile: {time_format(Q3)} ({int(Q3)})\")\n",
    "    print(f\"Inter Quartile Range: {time_format(IQR)} ({int(IQR)})\")\n",
    "\n",
    "    # Calculate the minimum and maximum values for the boxplot\n",
    "    boxplot_min = Q1 - 1.5 * IQR\n",
    "    boxplot_max = Q3 + 1.5 * IQR\n",
    "\n",
    "    return boxplot_min, boxplot_max\n",
    "\n",
    "min_value, max_value = get_boxplot_min_max(df, 'OutTimeSeconds')\n",
    "if min_value < 0:\n",
    "    print(f\"Minimum value for boxplot: 00:00 (0)\")\n",
    "else:\n",
    "    print(f\"Minimum value for boxplot: {time_format(min_value)}({int(min_value)})\")\n",
    "if max_value >= 86400:\n",
    "    print(f\"Maximum value for boxplot: 23:59 (86400)\")\n",
    "else:\n",
    "    print(f\"Maximum value for boxplot: {time_format(max_value)}({int(max_value)})\")\n",
    "df = df[(df['OutTimeSeconds'] >= min_value) & (df['OutTimeSeconds'] <= max_value)]\n",
    "df.reset_index(drop=True, inplace=True)\n",
    "df"
   ]
  },
  {
   "cell_type": "markdown",
   "id": "a6fd59e4-8054-4ed8-8938-a5fad1f3138a",
   "metadata": {},
   "source": [
    "#### **2.5. Fixing Structural Errors**"
   ]
  },
  {
   "cell_type": "code",
   "execution_count": null,
   "id": "0178150a-14e8-42ce-94f7-8c1194c1aab3",
   "metadata": {},
   "outputs": [],
   "source": [
    "\n",
    "df.loc[df['Hostel'] == 'Jasmine', 'Hostel'] = 'Jasmine Annex'\n",
    "df\n",
    "\n",
    "# data = {'RollNumber': ['CS21B1039'], 'Hostel': ['Jasmine'], 'VisitingPlace':['Kandigai'], 'OutTime': ['17:20'],\n",
    "            # 'InTime': ['18:30'],'OutTimeSeconds': [48000], 'InTimeSeconds': [64000], 'TimePeriod': ['Evening'], 'TimePeriodNumeric': [2] , 'Cluster': [2]}\n",
    "# temp_df = pd.DataFrame(data)\n",
    "# df1 = df.copy()\n",
    "# merged_df = pd.concat([df1, temp_df], ignore_index=True)\n",
    "# merged_df['Hostel'] = merged_df['Hostel'].replace('Jasmine', 'Jasmine Annex')\n",
    "# merged_df"
   ]
  },
  {
   "cell_type": "markdown",
   "id": "df0f7245-9df1-406e-b349-19fb71d7dcb9",
   "metadata": {},
   "source": [
    "#### **3. Data Integration**"
   ]
  },
  {
   "cell_type": "markdown",
   "id": "ae8ebfa2-fb8f-460f-af81-f38e40387afb",
   "metadata": {},
   "source": [
    "##### Not Applicable"
   ]
  },
  {
   "cell_type": "markdown",
   "id": "80720f37-a9be-4c62-b0f4-b8bc40ddb910",
   "metadata": {},
   "source": [
    "#### **4. Data Transformation**"
   ]
  },
  {
   "cell_type": "markdown",
   "id": "a6bb4fbe-75b5-4115-a557-7ac553097bd9",
   "metadata": {},
   "source": [
    "#### **4.1 Data Smoothing**"
   ]
  },
  {
   "cell_type": "code",
   "execution_count": null,
   "id": "9101c3f2-028f-47ad-bcd0-fddba0f8ebb5",
   "metadata": {},
   "outputs": [],
   "source": [
    "window_size = 5\n",
    "\n",
    "smoothed_df = pd.DataFrame()\n",
    "smoothed_df['OutTimeSeconds'] = df['OutTimeSeconds'].copy()\n",
    "smoothed_df['SmoothedOutTimeSeconds'] = df['OutTimeSeconds'].rolling(window=window_size).mean()\n",
    "smoothed_df.dropna(inplace=True)\n",
    "\n",
    "plt.hist(smoothed_df['OutTimeSeconds'], bins=150, color='skyblue')\n",
    "plt.xlabel('Values')\n",
    "plt.ylabel('Frequency')\n",
    "plt.title('Histogram of OutTime (in seconds)')\n",
    "plt.grid(True)\n",
    "plt.show()\n",
    "\n",
    "plt.hist(smoothed_df['SmoothedOutTimeSeconds'], bins=150, color='skyblue')\n",
    "plt.xlabel('Values')\n",
    "plt.ylabel('Frequency')\n",
    "plt.title('Histogram of smoothed OutTime (in seconds)')\n",
    "plt.grid(True)\n",
    "plt.show()"
   ]
  },
  {
   "cell_type": "markdown",
   "id": "6c2fe2d8-45f3-468a-966a-604d5360fb97",
   "metadata": {},
   "source": [
    "#### **4.2. Data Aggregation** - Not Applicable"
   ]
  },
  {
   "cell_type": "markdown",
   "id": "20f6a696-aeac-4b9a-9b97-b9863528fa96",
   "metadata": {},
   "source": [
    "#### **4.3. Data Generalization**"
   ]
  },
  {
   "cell_type": "code",
   "execution_count": null,
   "id": "a45bfe4f-bc19-4a17-920e-74850ba9a501",
   "metadata": {},
   "outputs": [],
   "source": [
    "# Define time ranges for different parts of the day\n",
    "time_ranges = {\n",
    "    'Morning': (0, 43200),    # 00:00 to 12:00 (Morning)\n",
    "    'Afternoon': (43200, 64800),  # 12:00 to 18:00 (Afternoon)\n",
    "    'Evening': (64800, 86400)  # 18:00 to 24:00 (Evening)\n",
    "}\n",
    "\n",
    "# Function to map time to the corresponding part of the day\n",
    "def get_time_of_day(seconds):\n",
    "    for time_of_day, (start, end) in time_ranges.items():\n",
    "        if start <= seconds < end:\n",
    "            return time_of_day\n",
    "    return None\n",
    "\n",
    "# Apply the function to create new 'OutTimeOfDay' and 'InTimeOfDay' columns\n",
    "# df['OutTimeOfDay'] = df['OutTimeSeconds'].apply(get_time_of_day)\n",
    "# df['InTimeOfDay'] = df['InTimeSeconds'].apply(get_time_of_day)\n",
    "\n",
    "# Use .loc to set the values properly without warnings\n",
    "df = df.copy()\n",
    "df.loc[:, 'OutTimeOfDay'] = df['OutTimeSeconds'].apply(get_time_of_day)\n",
    "df = df.copy()\n",
    "df.loc[:, 'InTimeOfDay'] = df['InTimeSeconds'].apply(get_time_of_day)\n",
    "df\n",
    "\n",
    "# timeofday_df = df[['RollNumber', 'OutTimeOfDay', 'InTimeOfDay']].copy()\n",
    "# timeofday_df"
   ]
  },
  {
   "cell_type": "code",
   "execution_count": null,
   "id": "32420966-9a07-4a98-a1ae-94f499a09c6a",
   "metadata": {},
   "outputs": [],
   "source": [
    "# Function to get the batch of student from the roll number\n",
    "def get_batch(roll_number):\n",
    "    symbols = list(roll_number)\n",
    "    batch = ''\n",
    "    for symbol in symbols:\n",
    "        if symbol >= '0' and symbol <= '9':\n",
    "            batch += symbol\n",
    "            if(len(batch) >= 2):\n",
    "                break\n",
    "    return int('20' + batch)\n",
    "    \n",
    "# Apply the function to create the new 'Batch' column\n",
    "df = df.copy()\n",
    "df.loc[:, 'Batch'] = df['RollNumber'].apply(get_batch)\n",
    "df"
   ]
  },
  {
   "cell_type": "markdown",
   "id": "22006d01-0373-487d-a2af-98289520d29c",
   "metadata": {},
   "source": [
    "#### **4.4. Data Normalization** - Min Max Normalization"
   ]
  },
  {
   "cell_type": "code",
   "execution_count": null,
   "id": "a2919408-1fe2-464c-b339-053d8608bfd5",
   "metadata": {},
   "outputs": [],
   "source": [
    "# columns_to_normalize = ['OutTimeSeconds', 'InTimeSeconds']\n",
    "# def min_max_normalize(column):\n",
    "#     max_value = column.max()\n",
    "#     min_value = column.min()\n",
    "#     normalized_column = (column - min_value) / (max_value - min_value)\n",
    "#     return normalized_column\n",
    "\n",
    "# for column in columns_to_normalize:\n",
    "#     df[column+'Normailzed'] = min_max_normalize(df[column])\n",
    "\n",
    "# df"
   ]
  },
  {
   "cell_type": "markdown",
   "id": "efb201d3-353d-419e-8b92-98eda49f8272",
   "metadata": {},
   "source": [
    "#### **Save the cleaned dataset to a new file**"
   ]
  },
  {
   "cell_type": "code",
   "execution_count": null,
   "id": "09021f00-e43b-4b0d-926a-dab9f4858484",
   "metadata": {},
   "outputs": [],
   "source": [
    "# df.to_csv('cleaned_student_movement.csv', index=False)\n",
    "print(\"Cleaned dataset saved successfully!\")"
   ]
  },
  {
   "cell_type": "markdown",
   "id": "d086edc5-99d2-4aff-acc3-3492e1afb3d6",
   "metadata": {},
   "source": [
    "#### **Exploratory Data Analysis**"
   ]
  },
  {
   "cell_type": "markdown",
   "id": "fdb7f04c-e371-4fa3-b2fb-71f7ae673086",
   "metadata": {},
   "source": [
    "* #### **Outing Duration Analysis**"
   ]
  },
  {
   "cell_type": "code",
   "execution_count": null,
   "id": "31656d9b-1ed8-4e6e-9f04-4535a3761444",
   "metadata": {},
   "outputs": [],
   "source": [
    "df['Duration'] = df['InTimeSeconds'] - df['OutTimeSeconds']\n",
    "duration_stats = df['Duration'].describe()\n",
    "avg_duration = duration_stats['mean']\n",
    "print(\"Average duration of outing: \",time_format(avg_duration), int(avg_duration))\n",
    "min_duration = duration_stats['min']\n",
    "print(\"Minimum duration of outing: \",time_format(min_duration), int(min_duration))\n",
    "max_duration = duration_stats['max']\n",
    "print(\"Maximum duration of outing: \",time_format(max_duration), int(max_duration))\n",
    "\n",
    "plt.hist(df['Duration'], bins=20, color='skyblue', edgecolor='black')\n",
    "plt.xlabel('Duration of Outings')\n",
    "plt.ylabel('Frequency')\n",
    "plt.title('Histogram of Outing Durations')\n",
    "plt.show()\n",
    "\n",
    "import seaborn as sns\n",
    "\n",
    "# Distribution plot (histogram with a KDE)\n",
    "sns.histplot(df['Duration'], kde=True, color='orange')\n",
    "plt.xlabel('Duration of Outings')\n",
    "plt.ylabel('Density')\n",
    "plt.title('Distribution of Outing Durations')\n",
    "plt.show()\n",
    "\n",
    "plt.figure(figsize=(10, 6))\n",
    "plt.plot(df['OutTimeSeconds'], df['Duration'], marker='o', linestyle='-')\n",
    "plt.xlabel('Timestamp')\n",
    "plt.ylabel('Duration of Outings')\n",
    "plt.title('Outing Durations Over Time')\n",
    "plt.xticks(rotation=45)\n",
    "plt.tight_layout()\n",
    "plt.show()"
   ]
  },
  {
   "cell_type": "markdown",
   "id": "bf941849-44cd-4102-98a3-a5a7dadf14b8",
   "metadata": {},
   "source": [
    "#### **Heatmap** - Correlation between OutTime, InTime and Duration"
   ]
  },
  {
   "cell_type": "code",
   "execution_count": null,
   "id": "34bad42a-0103-4e13-8249-d15fef161d1e",
   "metadata": {},
   "outputs": [],
   "source": [
    "# Create a heatmap to visualize the correlation\n",
    "correlation_matrix = df[['OutTimeSeconds', 'InTimeSeconds', 'Duration']].corr()\n",
    "\n",
    "plt.figure(figsize=(8, 6))\n",
    "sns.heatmap(correlation_matrix, annot=True, cmap='coolwarm', fmt=\".2f\")\n",
    "plt.title('Correlation Heatmap between OutTime, InTime and Duration')\n",
    "plt.show()"
   ]
  },
  {
   "cell_type": "markdown",
   "id": "3383c27b-74ef-45ee-a66d-7b26b561a981",
   "metadata": {},
   "source": [
    "* #### **Scatter Plot** - Holistic view of data distribution"
   ]
  },
  {
   "cell_type": "code",
   "execution_count": null,
   "id": "9ed879e2-9b7d-49e0-99df-ecd5d6e80870",
   "metadata": {},
   "outputs": [],
   "source": [
    "fig, axes = plt.subplots(1, 2, figsize=(12, 5))  # 1 row, 2 columns for subplots\n",
    "\n",
    "# Scatter plot for OutTime vs. InTime by OutTimeOfDay\n",
    "out_morning = df.loc[df['OutTimeOfDay'] == 'Morning', ['OutTimeSeconds', 'InTimeSeconds']]\n",
    "out_afternoon = df.loc[df['OutTimeOfDay'] == 'Afternoon', ['OutTimeSeconds', 'InTimeSeconds']]\n",
    "out_evening = df.loc[df['OutTimeOfDay'] == 'Evening', ['OutTimeSeconds', 'InTimeSeconds']]\n",
    "\n",
    "axes[0].scatter(out_morning['OutTimeSeconds'], out_morning['InTimeSeconds'], label='morning', marker='o', color='tab:orange')\n",
    "axes[0].scatter(out_afternoon['OutTimeSeconds'], out_afternoon['InTimeSeconds'], label='afternoon', marker='x', color='tab:blue')\n",
    "axes[0].scatter(out_evening['OutTimeSeconds'], out_evening['InTimeSeconds'], label='evening', marker='^', color='tab:green')\n",
    "axes[0].set_xlabel('OutTime')\n",
    "axes[0].set_ylabel('InTime')\n",
    "axes[0].set_title('OutTime vs. InTime by OutTime of Day')\n",
    "axes[0].legend()\n",
    "\n",
    "# Scatter plot for OutTime vs. InTime by InTimeOfDay\n",
    "in_morning = df.loc[df['InTimeOfDay'] == 'Morning', ['OutTimeSeconds', 'InTimeSeconds']]\n",
    "in_afternoon = df.loc[df['InTimeOfDay'] == 'Afternoon', ['OutTimeSeconds', 'InTimeSeconds']]\n",
    "in_evening = df.loc[df['InTimeOfDay'] == 'Evening', ['OutTimeSeconds', 'InTimeSeconds']]\n",
    "\n",
    "axes[1].scatter(in_morning['OutTimeSeconds'], in_morning['InTimeSeconds'], label='morning', marker='o', color='tab:orange')\n",
    "axes[1].scatter(in_afternoon['OutTimeSeconds'], in_afternoon['InTimeSeconds'], label='afternoon', marker='x', color='tab:blue')\n",
    "axes[1].scatter(in_evening['OutTimeSeconds'], in_evening['InTimeSeconds'], label='evening', marker='^', color='tab:green')\n",
    "axes[1].set_xlabel('OutTime')\n",
    "axes[1].set_ylabel('InTime')\n",
    "axes[1].set_title('OutTime vs. InTime by InTime of Day')\n",
    "axes[1].legend()\n",
    "\n",
    "plt.tight_layout()  # To prevent overlapping of plots\n",
    "plt.show()"
   ]
  },
  {
   "cell_type": "markdown",
   "id": "8a6d1f1f-6898-4926-a035-7c961e60a53f",
   "metadata": {},
   "source": [
    "* #### Count of OutTime and InTime by Time of Day"
   ]
  },
  {
   "cell_type": "code",
   "execution_count": null,
   "id": "294cc83a-9091-46dc-96ba-acc4c6318635",
   "metadata": {},
   "outputs": [],
   "source": [
    "# Grouping by 'InTimeOfDay' and 'OutTimeOfDay' and counting occurrences\n",
    "in_time_counts = df['InTimeOfDay'].value_counts()\n",
    "out_time_counts = df['OutTimeOfDay'].value_counts()\n",
    "\n",
    "# Creating a figure and two subplots for side-by-side bar plots\n",
    "fig, ax = plt.subplots()\n",
    "\n",
    "# Bar width for each set of bars\n",
    "bar_width = 0.35\n",
    "\n",
    "# Generating positions for bars\n",
    "x = range(len(out_time_counts))\n",
    "\n",
    "# Plotting the bars\n",
    "ax.bar(x, out_time_counts, width=bar_width, label='Out')\n",
    "ax.bar([pos + bar_width for pos in x], in_time_counts, width=bar_width, label='In')\n",
    "\n",
    "# Setting labels and title\n",
    "ax.set_xlabel('Time of Day')\n",
    "ax.set_ylabel('Count')\n",
    "ax.set_title('Count of OutTime and InTime by Time of Day')\n",
    "ax.set_xticks([pos + bar_width / 2 for pos in x])\n",
    "ax.set_xticklabels(in_time_counts.index)\n",
    "ax.legend()\n",
    "\n",
    "plt.show()"
   ]
  },
  {
   "cell_type": "markdown",
   "id": "5302f04b-1253-43e4-9d75-544c9a0ea9bd",
   "metadata": {},
   "source": [
    "* #### Hostel Distribution"
   ]
  },
  {
   "cell_type": "code",
   "execution_count": null,
   "id": "044fb623-fd45-41c9-a29e-cc4ac803e974",
   "metadata": {},
   "outputs": [],
   "source": [
    "# Count the occurrences of each unique value in the 'Hostel' column\n",
    "hostel_counts = df['Hostel'].value_counts()\n",
    "print(hostel_counts)\n",
    "# create bar chart for hostel\n",
    "hostel_counts.plot(kind='bar', color='mediumpurple')\n",
    "plt.title('Hostel Distribution')\n",
    "plt.xlabel('Hostel')\n",
    "plt.ylabel('Count')\n",
    "\n",
    "plt.show()"
   ]
  },
  {
   "cell_type": "markdown",
   "id": "d4af09f7-c65a-4f07-ab92-d51541990bde",
   "metadata": {},
   "source": [
    "* #### Visiting Place Distribution"
   ]
  },
  {
   "cell_type": "code",
   "execution_count": null,
   "id": "b6018dce-9e1a-40d9-94f8-6c2ec4de89d4",
   "metadata": {},
   "outputs": [],
   "source": [
    "# Count the occurrences of each unique value in the 'VistingPlace' column\n",
    "place_counts = df['VisitingPlace'].value_counts()\n",
    "print(place_counts)\n",
    "\n",
    "# create bar chart for visiting place\n",
    "place_counts.plot(kind='bar', color='mediumseagreen')\n",
    "plt.title('Visting Place Distribution')\n",
    "plt.xlabel('Visting Place')\n",
    "plt.ylabel('Count')\n",
    "plt.show()"
   ]
  },
  {
   "cell_type": "markdown",
   "id": "8ff545d2-5745-43ea-8af8-da8303959f3f",
   "metadata": {},
   "source": [
    "* #### Percentage of Outings by Batch"
   ]
  },
  {
   "cell_type": "code",
   "execution_count": null,
   "id": "a641f339-eab3-4a46-b6f0-32481bce31b5",
   "metadata": {},
   "outputs": [],
   "source": [
    "# Counting the number of records for each batch\n",
    "batch_counts = df['Batch'].value_counts()\n",
    "print(batch_counts)\n",
    "\n",
    "# Plotting a pie chart showing the percentage of outings for each batch\n",
    "plt.figure(figsize=(6, 6))\n",
    "plt.pie(batch_counts, labels=batch_counts.index, autopct='%1.1f%%', startangle=140)\n",
    "plt.axis('equal')  # Equal aspect ratio ensures that pie is drawn as a circle.\n",
    "plt.title('Percentage of Outings by Batch')\n",
    "plt.show()"
   ]
  }
 ],
 "metadata": {
  "kernelspec": {
   "display_name": "Python 3 (ipykernel)",
   "language": "python",
   "name": "python3"
  },
  "language_info": {
   "codemirror_mode": {
    "name": "ipython",
    "version": 3
   },
   "file_extension": ".py",
   "mimetype": "text/x-python",
   "name": "python",
   "nbconvert_exporter": "python",
   "pygments_lexer": "ipython3",
   "version": "3.11.0"
  }
 },
 "nbformat": 4,
 "nbformat_minor": 5
}
